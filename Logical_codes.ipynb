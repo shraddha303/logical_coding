{
 "cells": [
  {
   "cell_type": "markdown",
   "metadata": {},
   "source": [
    "## Creating star patterns"
   ]
  },
  {
   "cell_type": "code",
   "execution_count": 7,
   "metadata": {},
   "outputs": [
    {
     "name": "stdout",
     "output_type": "stream",
     "text": [
      "Enter Number of lines of pattern: 6\n",
      "* \n",
      "* * \n",
      "* * * \n",
      "* * * * \n",
      "* * * * * \n",
      "* * * * * * \n"
     ]
    }
   ],
   "source": [
    "n = int(input(\"Enter Number of lines of pattern: \"))\n",
    "for i in range(n):\n",
    "    for j in range(i+1):\n",
    "        print(\"*\", end=' ')\n",
    "    print()"
   ]
  },
  {
   "cell_type": "code",
   "execution_count": 10,
   "metadata": {},
   "outputs": [
    {
     "name": "stdout",
     "output_type": "stream",
     "text": [
      "Enter Number of lines of pattern: 6\n",
      "* \n",
      "* * \n",
      "* * * \n",
      "* * * * \n",
      "* * * * * \n",
      "* * * * * * \n"
     ]
    }
   ],
   "source": [
    "#another way to execute above pattern\n",
    "n = int(input(\"Enter Number of lines of pattern: \"))\n",
    "\n",
    "for i in range(n):\n",
    "     print('* ' *(i+1))"
   ]
  },
  {
   "cell_type": "code",
   "execution_count": 8,
   "metadata": {},
   "outputs": [
    {
     "name": "stdout",
     "output_type": "stream",
     "text": [
      "Enter Number of lines of pattern: 6\n",
      "* * * * * * \n",
      "* * * * * \n",
      "* * * * \n",
      "* * * \n",
      "* * \n",
      "* \n"
     ]
    }
   ],
   "source": [
    "n = int(input(\"Enter Number of lines of pattern: \"))\n",
    "\n",
    "for i in range(n,0,-1):\n",
    "    for j in range(i, 0,-1):\n",
    "        print(\"*\", end=' ')\n",
    "    print()"
   ]
  },
  {
   "cell_type": "code",
   "execution_count": 12,
   "metadata": {},
   "outputs": [
    {
     "name": "stdout",
     "output_type": "stream",
     "text": [
      "Enter Number of lines of pattern: 6\n",
      "* * * * * * \n",
      "* * * * * \n",
      "* * * * \n",
      "* * * \n",
      "* * \n",
      "* \n"
     ]
    }
   ],
   "source": [
    "#another way to execute above pattern\n",
    "n = int(input(\"Enter Number of lines of pattern: \"))\n",
    "\n",
    "for i in range(n,0,-1):\n",
    "    print('* ' *(i))"
   ]
  },
  {
   "cell_type": "code",
   "execution_count": 6,
   "metadata": {},
   "outputs": [
    {
     "name": "stdout",
     "output_type": "stream",
     "text": [
      "Enter Number of lines of pattern: 6\n",
      "* \n",
      "* * \n",
      "* * * \n",
      "* * * * \n",
      "* * * * * \n",
      "* * * * * * \n",
      "* * * * * \n",
      "* * * * \n",
      "* * * \n",
      "* * \n",
      "* \n"
     ]
    }
   ],
   "source": [
    "n = int(input(\"Enter Number of lines of pattern: \"))\n",
    "for i in range(n):\n",
    "    for j in range(i+1):\n",
    "        print(\"*\", end=' ')\n",
    "    print()\n",
    "\n",
    "for i in range(n-1,0,-1):\n",
    "    for j in range(i, 0,-1):\n",
    "        print(\"*\", end=' ')\n",
    "    print()"
   ]
  },
  {
   "cell_type": "code",
   "execution_count": 9,
   "metadata": {},
   "outputs": [
    {
     "name": "stdout",
     "output_type": "stream",
     "text": [
      "Enter Number of lines of pattern: 5\n",
      "* \n",
      "* * \n",
      "* * * \n",
      "* * * * \n",
      "* * * * * \n",
      "* * * * \n",
      "* * * \n",
      "* * \n",
      "* \n"
     ]
    }
   ],
   "source": [
    "#another way to execute above pattern\n",
    "n = int(input(\"Enter Number of lines of pattern: \"))\n",
    "\n",
    "for i in range((2*n)-1):\n",
    "    if i<n:\n",
    "        print('* ' *(i+1))\n",
    "    else:\n",
    "        print('* '* (2*n-i-1))"
   ]
  },
  {
   "cell_type": "code",
   "execution_count": 52,
   "metadata": {},
   "outputs": [
    {
     "name": "stdout",
     "output_type": "stream",
     "text": [
      "Enter Number of lines of pattern: 4\n",
      "   *\n",
      "  **\n",
      " ***\n",
      "****\n"
     ]
    }
   ],
   "source": [
    "n = int(input(\"Enter Number of lines of pattern: \"))\n",
    "for i in range(n):\n",
    "    print(\" \"*(n-i-1) + \"*\"*(i+1))"
   ]
  },
  {
   "cell_type": "code",
   "execution_count": 53,
   "metadata": {},
   "outputs": [
    {
     "name": "stdout",
     "output_type": "stream",
     "text": [
      "Enter Number of lines of pattern: 6\n",
      "     * \n",
      "    * * \n",
      "   * * * \n",
      "  * * * * \n",
      " * * * * * \n",
      "* * * * * * \n"
     ]
    }
   ],
   "source": [
    "n = int(input(\"Enter Number of lines of pattern: \"))\n",
    "for i in range(n):\n",
    "    print(\" \"*(n-i-1) + \"* \"*(i+1))"
   ]
  },
  {
   "cell_type": "code",
   "execution_count": 35,
   "metadata": {},
   "outputs": [
    {
     "name": "stdout",
     "output_type": "stream",
     "text": [
      "Enter word for lines of pattern: word\n",
      "w \n",
      "w o \n",
      "w o r \n",
      "w o r d \n"
     ]
    }
   ],
   "source": [
    "w = str(input(\"Enter word for lines of pattern: \"))\n",
    "for i in range(len(w)):\n",
    "    for j in range(i+1):\n",
    "        print(w[j], end=' ')\n",
    "    print()"
   ]
  },
  {
   "cell_type": "code",
   "execution_count": 40,
   "metadata": {},
   "outputs": [
    {
     "name": "stdout",
     "output_type": "stream",
     "text": [
      "Enter word for lines of pattern: pattern\n",
      "p \n",
      "a a \n",
      "t t t \n",
      "t t t t \n",
      "e e e e e \n",
      "r r r r r r \n",
      "n n n n n n n \n"
     ]
    }
   ],
   "source": [
    "w = str(input(\"Enter word for lines of pattern: \"))\n",
    "for i in range(len(w)):\n",
    "    print((w[i]+\" \")*(i+1))"
   ]
  },
  {
   "cell_type": "markdown",
   "metadata": {},
   "source": [
    "## Create binomial triangle"
   ]
  },
  {
   "cell_type": "code",
   "execution_count": 69,
   "metadata": {},
   "outputs": [],
   "source": [
    "import numpy as np"
   ]
  },
  {
   "cell_type": "code",
   "execution_count": 83,
   "metadata": {},
   "outputs": [
    {
     "name": "stdout",
     "output_type": "stream",
     "text": [
      "Enter Number of lines of pattern: 6\n",
      "     1 \n",
      "    1 1 \n",
      "   1 2 1 \n",
      "  1 3 3 1 \n",
      " 1 4 6 4 1 \n",
      "1 5 10 10 5 1 \n"
     ]
    }
   ],
   "source": [
    "n = int(input(\"Enter Number of lines of pattern: \"))\n",
    "a = np.empty([n,n], dtype = int)\n",
    "for i in range(n):\n",
    "    print(\" \"*(n-i-1), end=\"\")\n",
    "    for j in range(i+1):\n",
    "        if j == 0 or j==i:\n",
    "            a[i][j]=1\n",
    "            #print(a[i,j], end =\" \")\n",
    "        else:\n",
    "            a[i][j] = a[i-1][j-1] + a[i-1][j]\n",
    "        print(a[i][j], end =\" \")\n",
    "    print()"
   ]
  },
  {
   "cell_type": "markdown",
   "metadata": {},
   "source": [
    "## Floyd Traingle"
   ]
  },
  {
   "cell_type": "code",
   "execution_count": 89,
   "metadata": {},
   "outputs": [
    {
     "name": "stdout",
     "output_type": "stream",
     "text": [
      "Enter Number of lines of pattern: 6\n",
      "1 \n",
      "2 3 \n",
      "4 5 6 \n",
      "7 8 9 10 \n",
      "11 12 13 14 15 \n",
      "16 17 18 19 20 21 \n"
     ]
    }
   ],
   "source": [
    "n = int(input(\"Enter Number of lines of pattern: \"))\n",
    "k=1\n",
    "for i in range(n):\n",
    "    for j in range(i+1):\n",
    "        print(k, end = \" \")\n",
    "        k+=1\n",
    "    print()"
   ]
  },
  {
   "cell_type": "markdown",
   "metadata": {},
   "source": [
    "## Palindrome"
   ]
  },
  {
   "cell_type": "code",
   "execution_count": 103,
   "metadata": {},
   "outputs": [
    {
     "name": "stdout",
     "output_type": "stream",
     "text": [
      "Enter String to check palindrome or not: Madam\n"
     ]
    }
   ],
   "source": [
    "str1 = str(input(\"Enter String to check palindrome or not: \")).lower()"
   ]
  },
  {
   "cell_type": "code",
   "execution_count": 104,
   "metadata": {},
   "outputs": [
    {
     "name": "stdout",
     "output_type": "stream",
     "text": [
      "It is a palindrome\n"
     ]
    }
   ],
   "source": [
    "if str1.isalnum() and str1==str1[::-1]:\n",
    "    print(\"It is a palindrome\")\n",
    "else:\n",
    "    print(\"It is not palindrome\")"
   ]
  },
  {
   "cell_type": "markdown",
   "metadata": {},
   "source": [
    "## Anagram"
   ]
  },
  {
   "cell_type": "code",
   "execution_count": 23,
   "metadata": {},
   "outputs": [],
   "source": [
    "#An anagram is a word or phrase formed by rearranging the letters of a different word or phrase, \n",
    "#typically using all the original letters exactly once\n",
    "from collections import Counter"
   ]
  },
  {
   "cell_type": "code",
   "execution_count": 28,
   "metadata": {},
   "outputs": [],
   "source": [
    "str1=\"abcdef\"\n",
    "str2 =\"becfad\""
   ]
  },
  {
   "cell_type": "code",
   "execution_count": 30,
   "metadata": {},
   "outputs": [
    {
     "name": "stdout",
     "output_type": "stream",
     "text": [
      "It is an Anagram\n"
     ]
    }
   ],
   "source": [
    "if Counter(str1)== Counter(str2):\n",
    "    print(\"It is an Anagram\")\n",
    "else:\n",
    "    print(\"It is not Anagram\")"
   ]
  },
  {
   "cell_type": "markdown",
   "metadata": {},
   "source": [
    "## Transpose array"
   ]
  },
  {
   "cell_type": "code",
   "execution_count": 47,
   "metadata": {},
   "outputs": [
    {
     "name": "stdout",
     "output_type": "stream",
     "text": [
      "[('a', 'c', 'e'), ('b', 'd', 'f')]\n"
     ]
    }
   ],
   "source": [
    "a1 = [['a', 'b'], ['c', 'd'], ['e', 'f']]\n",
    "transposed = list(zip(*a1))\n",
    "print(transposed) # [('a', 'c', 'e'), ('b', 'd', 'f')]"
   ]
  },
  {
   "cell_type": "markdown",
   "metadata": {},
   "source": [
    "## Swapping"
   ]
  },
  {
   "cell_type": "code",
   "execution_count": 84,
   "metadata": {},
   "outputs": [
    {
     "data": {
      "text/plain": [
       "(1, 2)"
      ]
     },
     "execution_count": 84,
     "metadata": {},
     "output_type": "execute_result"
    }
   ],
   "source": [
    "a, b = 1, 2\n",
    "a,b"
   ]
  },
  {
   "cell_type": "code",
   "execution_count": 85,
   "metadata": {},
   "outputs": [
    {
     "data": {
      "text/plain": [
       "(2, 1)"
      ]
     },
     "execution_count": 85,
     "metadata": {},
     "output_type": "execute_result"
    }
   ],
   "source": [
    "a, b = b, a\n",
    "a,b"
   ]
  },
  {
   "cell_type": "markdown",
   "metadata": {},
   "source": [
    "## Prime numbers"
   ]
  },
  {
   "cell_type": "code",
   "execution_count": 105,
   "metadata": {},
   "outputs": [
    {
     "name": "stdout",
     "output_type": "stream",
     "text": [
      "Enter positive Number: 11\n",
      "11 is prime number\n"
     ]
    }
   ],
   "source": [
    "n = int(input(\"Enter positive Number: \"))\n",
    "k=0\n",
    "for i in range(2, n//2):\n",
    "    if n%i == 0:\n",
    "        k=1\n",
    "if  n == 1:\n",
    "    print(\"1 is neither prime nor composite: \")\n",
    "if k == 0:\n",
    "    print(\"{0} is prime number\" .format(n))\n",
    "else:\n",
    "    print(\"{0} is not prime number\" . format(n))"
   ]
  },
  {
   "cell_type": "markdown",
   "metadata": {},
   "source": [
    "## Fibonacci Series"
   ]
  },
  {
   "cell_type": "code",
   "execution_count": 94,
   "metadata": {},
   "outputs": [
    {
     "name": "stdout",
     "output_type": "stream",
     "text": [
      "Enter fibonacci series Number: 20\n",
      "Fibonaci series is:  [1, 1, 2, 3, 5, 8, 13, 21, 34, 55, 89, 144, 233, 377, 610, 987, 1597, 2584, 4181, 6765]\n"
     ]
    }
   ],
   "source": [
    "n = int(input(\"Enter fibonacci series Number: \"))\n",
    "a=[]\n",
    "for i in range(n):\n",
    "    if i <2:\n",
    "        a.append(1)\n",
    "    else:\n",
    "        a.append(a[i-1]+a[i-2])\n",
    "print(\"Fibonaci series is: \",a)"
   ]
  },
  {
   "cell_type": "markdown",
   "metadata": {},
   "source": [
    "## Check if string has all unques characters"
   ]
  },
  {
   "cell_type": "code",
   "execution_count": 109,
   "metadata": {},
   "outputs": [
    {
     "name": "stdout",
     "output_type": "stream",
     "text": [
      "Enter string: unique\n",
      "unique string doesn't have all unique characters.\n"
     ]
    }
   ],
   "source": [
    "a = str(input(\"Enter string: \"))\n",
    "if a.isalnum() and len(a)== len(set(a)):\n",
    "    print(\"{0} string has all unique characters.\".format(a))\n",
    "else:\n",
    "    print(\"{0} string doesn't have all unique characters.\".format(a))"
   ]
  },
  {
   "cell_type": "markdown",
   "metadata": {},
   "source": [
    "## Check if string is substring:"
   ]
  },
  {
   "cell_type": "code",
   "execution_count": 112,
   "metadata": {},
   "outputs": [
    {
     "name": "stdout",
     "output_type": "stream",
     "text": [
      "Enter string: Substring\n",
      "Enter substringString\n",
      "String String is substring of Substring\n"
     ]
    }
   ],
   "source": [
    "string = str(input(\"Enter string: \"))\n",
    "sub = str(input(\"Enter substring\"))\n",
    "if string.isalnum() and sub.isalnum() and string.lower().find(sub.lower()) != -1:\n",
    "    print(\"String {0} is substring of {1}\".format(sub, string))"
   ]
  },
  {
   "cell_type": "code",
   "execution_count": 2,
   "metadata": {},
   "outputs": [
    {
     "name": "stdout",
     "output_type": "stream",
     "text": [
      "enter array: 9 78 6 4 1 5 3\n",
      "Minimum number from array is: 1\n",
      "Maximum number from array is: 78\n"
     ]
    }
   ],
   "source": [
    "a = list(map(int,input(\"enter array: \").strip().split()))\n",
    "minimum, maximum = a[0], a[0]\n",
    "for i in range(len(a)):\n",
    "    if a[i] < minimum:\n",
    "        minimum = a[i]\n",
    "    if a[i] > maximum:\n",
    "        maximum = a[i]\n",
    "print(\"Minimum number from array is:\", minimum)\n",
    "print(\"Maximum number from array is:\", maximum)"
   ]
  },
  {
   "cell_type": "markdown",
   "metadata": {},
   "source": [
    "## Sorting array"
   ]
  },
  {
   "cell_type": "code",
   "execution_count": 5,
   "metadata": {},
   "outputs": [
    {
     "name": "stdout",
     "output_type": "stream",
     "text": [
      "enter array: 9 5 66 557  265  4 6 1 7 6 9\n",
      "array before sorting: [9, 5, 66, 557, 265, 4, 6, 1, 7, 6, 9]\n",
      "array after sorting: [1, 4, 5, 6, 6, 7, 9, 9, 66, 265, 557]\n"
     ]
    }
   ],
   "source": [
    "a = list(map(int,input(\"enter array: \").strip().split()))\n",
    "print(\"array before sorting:\", a)\n",
    "n= len(a)\n",
    "for i in range(n):\n",
    "    for j in range(n-i-1):\n",
    "        if a[j] > a[j+1]:\n",
    "            a[j], a[j+1] = a[j+1], a[j]\n",
    "print(\"array after sorting:\", a)"
   ]
  },
  {
   "cell_type": "code",
   "execution_count": null,
   "metadata": {},
   "outputs": [],
   "source": []
  }
 ],
 "metadata": {
  "kernelspec": {
   "display_name": "Python 3",
   "language": "python",
   "name": "python3"
  },
  "language_info": {
   "codemirror_mode": {
    "name": "ipython",
    "version": 3
   },
   "file_extension": ".py",
   "mimetype": "text/x-python",
   "name": "python",
   "nbconvert_exporter": "python",
   "pygments_lexer": "ipython3",
   "version": "3.7.6"
  }
 },
 "nbformat": 4,
 "nbformat_minor": 4
}
